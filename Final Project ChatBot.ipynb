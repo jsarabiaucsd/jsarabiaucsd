{
 "cells": [
  {
   "cell_type": "markdown",
   "metadata": {},
   "source": [
    "UCSD_STUDENT_CHATBOT"
   ]
  },
  {
   "cell_type": "markdown",
   "metadata": {},
   "source": [
    "Project Description:\n",
    "\n",
    "My chatbot will have a short conversation with a UCSD student asking about their college and their major.\n",
    "The keywords of the major variables were selected by looking at all the majors that UCSD offers and selecting specific keywords from each major. The keywords of the college variables were selected by a creating bunch of different names of the colleges at UCSD including shorter abreviations. Regardless of the initial student input, the chatbot will proceed to ask the person what their college is at UCSD. If the student does not answer with their college, they will be prompted the question again. If they do, it will produce a unique response related to the college, and it will next then proceed to ask what major they are in. If they do not answer with their major, they will be prompted to answer again, if they do answer, it will say something related to the major field and end the chat. The outputs for both colleges and majors were random facts or a funny comment on it."
   ]
  },
  {
   "cell_type": "code",
   "execution_count": 1,
   "metadata": {},
   "outputs": [],
   "source": [
    "from my_module.functions import end_chat, prepare_text, remove_punctuation, ucsd_college, ucsd_major, ucsd_student_chat"
   ]
  },
  {
   "cell_type": "code",
   "execution_count": 2,
   "metadata": {},
   "outputs": [],
   "source": [
    "#Uncomment to run chatbot\n",
    "#ucsd_student_chat()"
   ]
  },
  {
   "cell_type": "code",
   "execution_count": null,
   "metadata": {},
   "outputs": [],
   "source": []
  }
 ],
 "metadata": {
  "kernelspec": {
   "display_name": "Python 3",
   "language": "python",
   "name": "python3"
  },
  "language_info": {
   "codemirror_mode": {
    "name": "ipython",
    "version": 3
   },
   "file_extension": ".py",
   "mimetype": "text/x-python",
   "name": "python",
   "nbconvert_exporter": "python",
   "pygments_lexer": "ipython3",
   "version": "3.6.7"
  }
 },
 "nbformat": 4,
 "nbformat_minor": 2
}
